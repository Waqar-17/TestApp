{
 "cells": [
  {
   "cell_type": "markdown",
   "id": "9ijlhsVrgVDj",
   "metadata": {
    "id": "9ijlhsVrgVDj"
   },
   "source": [
    "# <h2 align=\"center\">**Python 2024 Online Summer Internship**</h2>  \n",
    "# <h1 align=\"center\">**Make Your Place in Top 20% Pythom Programmers of the World**</h1>"
   ]
  },
  {
   "cell_type": "markdown",
   "id": "ZDxVUqZVgYpu",
   "metadata": {
    "id": "ZDxVUqZVgYpu"
   },
   "source": [
    "\n",
    "\n",
    "**Name: Muhammad Waqar**   \n",
    "**Email ID: mwaqar3234@gmail.com**"
   ]
  },
  {
   "cell_type": "markdown",
   "id": "7501962f-fb01-4ca3-8051-74a9bbe65537",
   "metadata": {},
   "source": [
    "# <h1 align=\"center\">**Assignment : 1**</h1>"
   ]
  },
  {
   "cell_type": "markdown",
   "id": "15ef0bf5-7582-4bfc-96df-83a59a6d8301",
   "metadata": {},
   "source": [
    "# <h1 align=\"center\">**Question 1 :Use the Template-based Appraoch, to practice Sample Program given in the Lectures**</h1>"
   ]
  },
  {
   "cell_type": "markdown",
   "id": "810f7b76-4ea9-4e9f-996b-5bd679e4505a",
   "metadata": {},
   "source": [
    "#<h2  align=\"center\">**Programs on Print Function**</h2>"
   ]
  },
  {
   "cell_type": "markdown",
   "id": "5b85a90b-e494-481d-bedc-e485299d09d8",
   "metadata": {},
   "source": [
    "### **Program 1:**\n",
    "**Task:** Print the following message on the Output Screen\n",
    "> Allah is One.\n",
    "\n",
    "\n",
    "**Input:** Allah is One\n",
    "\n",
    "**Processing:** Print Function\n",
    "\n",
    "**Output:** Allah is One.\n",
    "\n",
    "**Code:**"
   ]
  },
  {
   "cell_type": "code",
   "execution_count": 2,
   "id": "528d1e80-d069-4fd4-9623-25bf0a4d34a0",
   "metadata": {},
   "outputs": [
    {
     "name": "stdout",
     "output_type": "stream",
     "text": [
      "Allah is One.\n"
     ]
    }
   ],
   "source": [
    "print(\"Allah is One.\")"
   ]
  },
  {
   "cell_type": "markdown",
   "id": "d45f70dc-c351-425b-9256-06927596d71f",
   "metadata": {},
   "source": [
    "### **Program 2:**\n",
    "**Task:** Print the following message on the Output Screen\n",
    "\n",
    ">Hazrat Muhammad (PBUH) is the last Messenger of Allah and role model for us in all walks of life.\n",
    "\n",
    "**Input:** Hazrat Muhammad (PBUH) is the last Messenger of Allah and role model for us in all walks of life.\n",
    "\n",
    "**Processing:** print() Fucntion\n",
    "\n",
    "**Output:** Hazrat Muhammad (PBUH) is the last Messenger of Allah and role model for us in all walks of life.\n",
    "\n",
    "**Code:**"
   ]
  },
  {
   "cell_type": "code",
   "execution_count": 3,
   "id": "d04e6d58-ceac-43f9-909e-ef15c9dd079b",
   "metadata": {},
   "outputs": [
    {
     "name": "stdout",
     "output_type": "stream",
     "text": [
      "Hazrat Muhammad (PBUH) is the last Messenger of Allah and role model for us in all walks of life.\n"
     ]
    }
   ],
   "source": [
    "print(\"Hazrat Muhammad (PBUH) is the last Messenger of Allah and role model for us in all walks of life.\")"
   ]
  },
  {
   "cell_type": "markdown",
   "id": "4464f098-2a77-4016-9a9c-02873574dd68",
   "metadata": {},
   "source": [
    "#<h2  align=\"center\">**Programs on Comments**</h2>"
   ]
  },
  {
   "cell_type": "markdown",
   "id": "e1d1be66-34cb-4717-a6ec-09702e842e37",
   "metadata": {},
   "source": [
    "### **Program 3:**\n",
    "**Task:** Multiply Two Numbers and add comments\n",
    "\n",
    "**Input:** 3 , 6\n",
    "\n",
    "**Processing:** Print() Function\n",
    "\n",
    "**Output:** 18\n",
    "\n",
    "**Code:**"
   ]
  },
  {
   "cell_type": "code",
   "execution_count": 3,
   "id": "5c255a22-5dca-4443-b4ca-fa8d37f79834",
   "metadata": {},
   "outputs": [
    {
     "name": "stdout",
     "output_type": "stream",
     "text": [
      "18\n"
     ]
    }
   ],
   "source": [
    "print(3 * 6) # This is a program to add two numbers"
   ]
  },
  {
   "cell_type": "markdown",
   "id": "3da61c4b-2b39-43ca-a4d3-c8c376a8ebc9",
   "metadata": {},
   "source": [
    "#<h2  align=\"center\">**Programs on Arithmatic Operators**</h2>"
   ]
  },
  {
   "cell_type": "markdown",
   "id": "f5b9480e-7888-416a-902f-c214685c345b",
   "metadata": {},
   "source": [
    "### **Program 4:**\n",
    "**Task:** Write Two Digit Number in Reverse Order\n",
    "\n",
    "**Input:** 98\n",
    "\n",
    "**Processing:** Print() Function\n",
    "\n",
    "**Output:** 89\n",
    "\n",
    "**Code:**"
   ]
  },
  {
   "cell_type": "code",
   "execution_count": 7,
   "id": "c8e4ca12-f558-4ad0-801c-0b46edba0f4e",
   "metadata": {},
   "outputs": [
    {
     "name": "stdout",
     "output_type": "stream",
     "text": [
      "89\n"
     ]
    }
   ],
   "source": [
    "         #START\n",
    "        #Declaration\n",
    "n=98\n",
    "        #Processing\n",
    "digit1 = n // 10\n",
    "digit2 = n % 10\n",
    "        #Output\n",
    "print(f\"{digit2}{digit1}\")\n",
    "        #END"
   ]
  },
  {
   "cell_type": "markdown",
   "id": "759cb7b5-e711-4015-aaa3-1446beeacb67",
   "metadata": {},
   "source": [
    "### **Program 5:**\n",
    "**Task:** Calculate Area of Square\n",
    "\n",
    "**Input:** 4\n",
    "\n",
    "**Processing:** Print() Function\n",
    "\n",
    "**Output:** 16\n",
    "\n",
    "**Code:**"
   ]
  },
  {
   "cell_type": "code",
   "execution_count": null,
   "id": "4d2be9d5-ab05-4b9a-be08-b49d1aae1d11",
   "metadata": {},
   "outputs": [],
   "source": [
    "#   Area of Circle\n",
    "\n",
    "     #START\n",
    "     #Declaration\n",
    "a=4         \n",
    "     #Processing\n",
    "mul=a*a\n",
    "     #Output\n",
    "print(mul)\n",
    "     #END"
   ]
  },
  {
   "cell_type": "markdown",
   "id": "9cefe2a9-f7a6-4f4a-9d96-dde5860f07b6",
   "metadata": {},
   "source": [
    "#<h2  align=\"center\">**Programs on Selection Structues**</h2>"
   ]
  },
  {
   "cell_type": "markdown",
   "id": "d1ef4be5-612a-44b0-9b13-7503d6bcc632",
   "metadata": {},
   "source": [
    "### **Program 6:**\n",
    "**Task:** Write a program that takes a year as input and determines whether it is a \n",
    "leap year.\n",
    "\n",
    "**Input:** 2024\n",
    "\n",
    "**Processing:** if-elif-else Statement\n",
    "\n",
    "**Output:** The year is a leap year.\n",
    "\n",
    "**Flow Chart:**"
   ]
  },
  {
   "cell_type": "raw",
   "id": "61168758-4643-474f-8eed-6a45d3668a5d",
   "metadata": {},
   "source": [
    " +-----------------+\n",
    " | Start           |\n",
    " +-----------------+\n",
    "       |\n",
    "       v\n",
    " +-----------------+\n",
    " | Input year      | (Prompt user to enter a year)\n",
    " +-----------------+\n",
    "       |\n",
    "       v\n",
    " +-----------------+\n",
    " | Check year % 4  |\n",
    " | == 0?           |\n",
    " +-----------------+\n",
    " |           |\n",
    " |           v\n",
    " | +-----------------+\n",
    " | | Check year % 100 |\n",
    " | | == 0?           |\n",
    " | +-----------------+\n",
    " |           |\n",
    " |           v\n",
    " | +-----------------+\n",
    " | | Check year % 400 |\n",
    " | | == 0?           |\n",
    " | +-----------------+\n",
    " |           |\n",
    " |           v\n",
    " | +-----------------+\n",
    " | | Leap Year       | (Print \"The year is a leap year.\")\n",
    " | +-----------------+\n",
    " |           |\n",
    " |           v\n",
    " | +-----------------+\n",
    " | | End             |\n",
    " | +-----------------+\n",
    " |\n",
    " v\n",
    " +-----------------+\n",
    " | Not Leap Year   | (Print \"The year is not a leap year.\")\n",
    " +-----------------+\n",
    "       |\n",
    "       v\n",
    " +-----------------+\n",
    " | End             |\n",
    " +-----------------+\n",
    " |\n",
    " v\n",
    " +-----------------+\n",
    " | Not Leap Year   | (Print \"The year is not a leap year.\")\n",
    " +-----------------+\n",
    "       |\n",
    "       v\n",
    " +-----------------+\n",
    " | End             |\n",
    " +-----------------+\n"
   ]
  },
  {
   "cell_type": "markdown",
   "id": "969b0b0d-7826-4b7d-84c8-04102ee8808d",
   "metadata": {},
   "source": [
    "**Code:**"
   ]
  },
  {
   "cell_type": "code",
   "execution_count": 18,
   "id": "c97abfa4-c59d-4d7d-ba55-798812bc5c87",
   "metadata": {},
   "outputs": [
    {
     "name": "stdout",
     "output_type": "stream",
     "text": [
      "The year is a leap year.\n"
     ]
    }
   ],
   "source": [
    "# Prompt the user to enter a year\n",
    "year = 2024\n",
    "\n",
    "# Check if the year is a leap year\n",
    "if (year % 4 == 0):\n",
    "    if (year % 100 == 0):\n",
    "        if (year % 400 == 0):\n",
    "            print(\"The year is a leap year.\")\n",
    "        else:\n",
    "            print(\"The year is not a leap year.\")\n",
    "    else:\n",
    "        print(\"The year is a leap year.\")\n",
    "else:\n",
    "    print(\"The year is not a leap year.\")\n"
   ]
  },
  {
   "cell_type": "markdown",
   "id": "8f5dc426-797b-450c-9720-51c19075507c",
   "metadata": {},
   "source": [
    "#<h2  align=\"center\">**Programs on If-else Statement**</h2>"
   ]
  },
  {
   "cell_type": "markdown",
   "id": "80e00754-dd57-4c01-b8f1-91fda249a138",
   "metadata": {},
   "source": [
    "### **Program 7:**\n",
    "**Task:** Write a program that takes the lengths of the three sides of a triangle and \n",
    "determines whether it is equilateral, isosceles, or scalene.\n",
    "\n",
    "\n",
    "**Input:** side1=4,\n",
    "side2=6,\n",
    "side3=4\n",
    "\n",
    "**Processing:** if-elif-else Statement\n",
    "\n",
    "**Output:** The triangle is isosceles.\n",
    "\n",
    "**Flow Chart:**"
   ]
  },
  {
   "cell_type": "raw",
   "id": "f6e04a61-c010-4a4b-ad49-86b8a33b5aac",
   "metadata": {},
   "source": [
    " +-----------------+\n",
    " | Start           |\n",
    " +-----------------+\n",
    "       |\n",
    "       v\n",
    " +-----------------+\n",
    " | Input side1     | (Prompt user to enter the length of the first side)\n",
    " +-----------------+\n",
    "       |\n",
    "       v\n",
    " +-----------------+\n",
    " | Input side2     | (Prompt user to enter the length of the second side)\n",
    " +-----------------+\n",
    "       |\n",
    "       v\n",
    " +-----------------+\n",
    " | Input side3     | (Prompt user to enter the length of the third side)\n",
    " +-----------------+\n",
    "       |\n",
    "       v\n",
    " +------------------------------+\n",
    " | Check if sides are positive  |\n",
    " +------------------------------+\n",
    " |           |\n",
    " |           v\n",
    " | +-----------------+\n",
    " | | Invalid Length  | (Print \"Side lengths must be positive numbers.\")\n",
    " | +-----------------+\n",
    " |           |\n",
    " |           v\n",
    " | +-----------------+\n",
    " | | End             |\n",
    " | +-----------------+\n",
    " |\n",
    " v\n",
    " +-------------------------------+\n",
    " | Check if sides form a valid    |\n",
    " | triangle (triangle inequality) |\n",
    " +-------------------------------+\n",
    " |           |\n",
    " |           v\n",
    " | +-----------------+\n",
    " | | Invalid Triangle| (Print \"The given lengths do not form a valid triangle.\")\n",
    " | +-----------------+\n",
    " |           |\n",
    " |           v\n",
    " | +-----------------+\n",
    " | | End             |\n",
    " | +-----------------+\n",
    " |\n",
    " v\n",
    " +-------------------------------+\n",
    " | Check if side1 == side2 == side3 |\n",
    " +-------------------------------+\n",
    " |           |\n",
    " |           v\n",
    " | +-----------------+\n",
    " | | Equilateral     | (Print \"The triangle is equilateral.\")\n",
    " | +-----------------+\n",
    " |           |\n",
    " |           v\n",
    " | +-----------------+\n",
    " | | End             |\n",
    " | +-----------------+\n",
    " |\n",
    " v\n",
    " +-------------------------------+\n",
    " | Check if side1 == side2 or    |\n",
    " | side1 == side3 or side2 == side3 |\n",
    " +-------------------------------+\n",
    " |           |\n",
    " |           v\n",
    " | +-----------------+\n",
    " | | Isosceles       | (Print \"The triangle is isosceles.\")\n",
    " | +-----------------+\n",
    " |           |\n",
    " |           v\n",
    " | +-----------------+\n",
    " | | End             |\n",
    " | +-----------------+\n",
    " |\n",
    " v\n",
    " +-----------------+\n",
    " | Scalene         | (Print \"The triangle is scalene.\")\n",
    " +-----------------+\n",
    "       |\n",
    "       v\n",
    " +-----------------+\n",
    " | End             |\n",
    " +-----------------+\n"
   ]
  },
  {
   "cell_type": "markdown",
   "id": "144bf34a-298b-4ebf-9ccb-572672a91700",
   "metadata": {},
   "source": [
    "**Code:**"
   ]
  },
  {
   "cell_type": "code",
   "execution_count": 19,
   "id": "0cb6dced-d601-4fbd-8983-14a477f0a726",
   "metadata": {},
   "outputs": [
    {
     "name": "stdout",
     "output_type": "stream",
     "text": [
      "The triangle is isosceles.\n"
     ]
    }
   ],
   "source": [
    "# Prompt the user to enter the lengths of the three sides of the triangle\n",
    "side1 = 4\n",
    "side2 = 6\n",
    "side3 = 4\n",
    "\n",
    "# Check if the sides form a valid triangle\n",
    "if side1 <= 0 or side2 <= 0 or side3 <= 0:\n",
    "    print(\"Side lengths must be positive numbers.\")\n",
    "elif (side1 + side2 > side3) and (side1 + side3 > side2) and (side2 + side3 > side1):\n",
    "    # Determine the type of triangle\n",
    "    if side1 == side2 == side3:\n",
    "        print(\"The triangle is equilateral.\")\n",
    "    elif side1 == side2 or side1 == side3 or side2 == side3:\n",
    "        print(\"The triangle is isosceles.\")\n",
    "    else:\n",
    "        print(\"The triangle is scalene.\")\n",
    "else:\n",
    "    print(\"The given lengths do not form a valid triangle.\")\n"
   ]
  },
  {
   "cell_type": "markdown",
   "id": "50238b1d-9ef9-4d50-af5f-67d3023576bd",
   "metadata": {},
   "source": [
    "### **Program 8:**\n",
    "**Task:** Write a program that takes a year as input and determines whether it is a \n",
    "leap year.\n",
    "\n",
    "**Input:** 2024\n",
    "\n",
    "**Processing:** if-elif-else Statement\n",
    "\n",
    "**Output:** The year is a leap year.\n",
    "\n",
    "**Code:**"
   ]
  },
  {
   "cell_type": "code",
   "execution_count": 16,
   "id": "3c8cc948-2671-45f6-b1ca-46f69cda8283",
   "metadata": {},
   "outputs": [
    {
     "name": "stdout",
     "output_type": "stream",
     "text": [
      "The year is a leap year.\n"
     ]
    }
   ],
   "source": [
    "# Prompt the user to enter a year\n",
    "year = 2024\n",
    "\n",
    "# Check if the year is a leap year\n",
    "if (year % 4 == 0):\n",
    "    if (year % 100 == 0):\n",
    "        if (year % 400 == 0):\n",
    "            print(\"The year is a leap year.\")\n",
    "        else:\n",
    "            print(\"The year is not a leap year.\")\n",
    "    else:\n",
    "        print(\"The year is a leap year.\")\n",
    "else:\n",
    "    print(\"The year is not a leap year.\")\n"
   ]
  },
  {
   "cell_type": "markdown",
   "id": "e1c6d01b-5ed0-4a34-9dc6-5bfb4563a881",
   "metadata": {},
   "source": [
    "#<h2  align=\"center\">**Programs on Repetition Structures**</h2>"
   ]
  },
  {
   "cell_type": "markdown",
   "id": "e1704651-a9f8-482d-b17e-3c89ceea7112",
   "metadata": {},
   "source": [
    "### **Program 9:**\n",
    "**Task:** Write a program that will print the numbers from 1 to 10:\n",
    "\n",
    "**Input:** range 1-10\n",
    "\n",
    "**Processing:** for loop\n",
    "\n",
    "**Output:** 1,2,3,4,5,6,7,8,9,10\n",
    "\n",
    "**Code:**"
   ]
  },
  {
   "cell_type": "code",
   "execution_count": 17,
   "id": "9575a960-9243-4aea-8cb0-24ebe0d1d258",
   "metadata": {},
   "outputs": [
    {
     "name": "stdout",
     "output_type": "stream",
     "text": [
      "1\n",
      "2\n",
      "3\n",
      "4\n",
      "5\n",
      "6\n",
      "7\n",
      "8\n",
      "9\n",
      "10\n"
     ]
    }
   ],
   "source": [
    "# Program to print numbers from 1 to 10 using a for loop\n",
    "\n",
    "for i in range(1, 11):\n",
    "    print(i)\n"
   ]
  },
  {
   "cell_type": "markdown",
   "id": "70a18b72-d6ff-48f7-89ca-e1589b56285e",
   "metadata": {},
   "source": [
    "#<h2  align=\"center\">**Programs on Functions**</h2>"
   ]
  },
  {
   "cell_type": "markdown",
   "id": "9b22c161-85e2-4a2c-9998-f71d55bbb43c",
   "metadata": {},
   "source": [
    "### **Program 10:**\n",
    "**Task:** Write output of following code:"
   ]
  },
  {
   "cell_type": "code",
   "execution_count": 5,
   "id": "6b7ec966-a7a3-4c60-b761-77b3801e0675",
   "metadata": {},
   "outputs": [
    {
     "name": "stdout",
     "output_type": "stream",
     "text": [
      "I am in Main()\n",
      "I am in Kenya()\n",
      "I am in Brazil()\n",
      "I am in Argentina()\n",
      "I am in South Africa()\n",
      "I am in Egypt()\n",
      "Back in Main()\n"
     ]
    }
   ],
   "source": [
    "# Function Definitions\n",
    "\n",
    "def brazil():  # brazil() Function Header\n",
    "    # Body of brazil() Function\n",
    "    print(\"I am in Brazil()\")\n",
    "    argentina()  # Function Call\n",
    "\n",
    "def argentina():  # argentina() Function Header\n",
    "    # Body of argentina() Function\n",
    "    print(\"I am in Argentina()\")\n",
    "\n",
    "def south_africa():  # south_africa() Function Header\n",
    "    # Body of south_africa() Function\n",
    "    print(\"I am in South Africa()\")\n",
    "    egypt()  # Function Call\n",
    "\n",
    "def egypt():  # egypt() Function Header\n",
    "    # Body of egypt() Function\n",
    "    print(\"I am in Egypt()\")\n",
    "\n",
    "def kenya():  # kenya() Function Header\n",
    "    # Body of kenya() Function\n",
    "    print(\"I am in Kenya()\")\n",
    "    brazil()  # Function Call\n",
    "    south_africa()  # Function Call\n",
    "\n",
    "# Main Function\n",
    "if __name__ == \"__main__\":  # main() Function Header\n",
    "    # Body of main() Function\n",
    "    print(\"I am in Main()\")\n",
    "    kenya()  # Function Call\n",
    "    print(\"Back in Main()\")\n"
   ]
  },
  {
   "cell_type": "markdown",
   "id": "f80266e6-370f-4b23-a214-2978073431b2",
   "metadata": {},
   "source": [
    "# <h1 align=\"center\">**Question 2 :Use the Template-based Appraoch, to write programs for TODO Tasks (given in the Lectures)**</h1>"
   ]
  },
  {
   "cell_type": "markdown",
   "id": "5718e06e-d021-40df-a187-455091c51566",
   "metadata": {},
   "source": [
    "#<h2  align=\"center\">**TODO Tasks of Print statement**</h2>"
   ]
  },
  {
   "cell_type": "markdown",
   "id": "6867b719-a81a-423a-9b4f-155a7d83911d",
   "metadata": {},
   "source": [
    "### **TODO Task 1:**\n",
    "**Task:** Print the following message on the Output Screen\n",
    ">Purpose of our lives is: Friendship of Allah.\n",
    "\n",
    "**Input:** Purpose of our lives is: Friendship of Allah.\n",
    "\n",
    "**Processing:** print() Function\n",
    "\n",
    "**Output:** Purpose of our lives is: Friendship of Allah.\n",
    "\n",
    "**Code:**"
   ]
  },
  {
   "cell_type": "code",
   "execution_count": 1,
   "id": "4f639796-fd78-460c-ad09-329692f01c59",
   "metadata": {},
   "outputs": [
    {
     "name": "stdout",
     "output_type": "stream",
     "text": [
      "Purpose of our lives is: Friendship of Allah.\n"
     ]
    }
   ],
   "source": [
    "print(\"Purpose of our lives is: Friendship of Allah.\")"
   ]
  },
  {
   "cell_type": "raw",
   "id": "439aa3a0-d242-4dbd-b0c5-125f7f66454e",
   "metadata": {},
   "source": [
    "Flow Chart :\n",
    "+-----------------+\n",
    "| Start           |\n",
    "+-----------------+\n",
    "|\n",
    "v\n",
    "+-----------------+\n",
    "| Print Statement | (Print \"Purpose of our lives is: Friendship of Allah.\")\n",
    "+-----------------+\n",
    "|\n",
    "v\n",
    "+-----------------+\n",
    "| End             |\n",
    "+-----------------+\n"
   ]
  },
  {
   "cell_type": "markdown",
   "id": "f057224d-54aa-4345-a31d-6b00cd87568d",
   "metadata": {},
   "source": [
    "### **TODO Task 2:**\n",
    "\n",
    "**Task:** Print the following message on the Output Screen\n",
    ">Your name\n",
    "\n",
    ">Your age\n",
    "\n",
    ">Your  marks (percentage) in FSc / A Levels\n",
    "\n",
    "\n",
    "**Input:** \n",
    "\n",
    "Your name\n",
    "\n",
    "Your age\n",
    "\n",
    "Your  marks (percentage) in FSc / A Levels\n",
    "\n",
    "**Processing:** print() Function\n",
    "\n",
    "**Output:** \n",
    "Muhammad Waqar\n",
    "            \n",
    "19\n",
    "\n",
    "85%\n",
    "\n",
    "**Code:**"
   ]
  },
  {
   "cell_type": "code",
   "execution_count": 3,
   "id": "fca30acd-79db-4640-bdee-45845c2ae4ec",
   "metadata": {},
   "outputs": [
    {
     "name": "stdout",
     "output_type": "stream",
     "text": [
      "Muhammad Waqar\n",
      "19\n",
      "85%\n"
     ]
    }
   ],
   "source": [
    "print(\"Muhammad Waqar\")\n",
    "print(\"19\")\n",
    "print(\"85%\")"
   ]
  },
  {
   "cell_type": "raw",
   "id": "3ce1beaa-df38-41fc-908e-d5221658bfd0",
   "metadata": {},
   "source": [
    "FLOW CHART :\n",
    "\n",
    "+-----------------+\n",
    "| Start           |\n",
    "+-----------------+\n",
    "|\n",
    "v\n",
    "+-----------------+\n",
    "| Print \"Muhammad Waqar\" |\n",
    "+-----------------+\n",
    "|\n",
    "v\n",
    "+-----------------+\n",
    "| Print \"19\"      |\n",
    "+-----------------+\n",
    "|\n",
    "v\n",
    "+-----------------+\n",
    "| Print \"85%\"     |\n",
    "+-----------------+\n",
    "|\n",
    "v\n",
    "+-----------------+\n",
    "| End             |\n",
    "+-----------------+\n"
   ]
  },
  {
   "cell_type": "markdown",
   "id": "530d655a-8248-4158-8c05-4c8ee7041483",
   "metadata": {},
   "source": [
    "### **TODO Task 3:**\n",
    "**Task:** Print the following information about your city\n",
    ">Name\n",
    "\n",
    ">Population\n",
    "\n",
    ">Famous for\n",
    "\n",
    ">Geographic area in kilometers\n",
    "\n",
    "\n",
    "**Input:**\n",
    "\n",
    "\n",
    "City Name\n",
    "\n",
    "\n",
    "City Popution\n",
    "\n",
    "\n",
    "City famous for\n",
    "\n",
    "\n",
    "Geographic area in kilometers\n",
    "\n",
    "\n",
    "**Processing:**\n",
    "print() Function\n",
    "\n",
    "**Output:**\n",
    "\n",
    "Toba Tek Singh\n",
    "\n",
    "\n",
    "87,210\n",
    "\n",
    "\n",
    "Best producer of oranges\n",
    "\n",
    "\n",
    "3,252 square kilometers\n",
    "\n",
    "**Code:**"
   ]
  },
  {
   "cell_type": "code",
   "execution_count": 4,
   "id": "bce7eb61-dce6-4752-876e-aed0ab299f75",
   "metadata": {},
   "outputs": [
    {
     "name": "stdout",
     "output_type": "stream",
     "text": [
      "Toba Tek Singh\n",
      "87,210\n",
      "Best producer of oranges\n",
      "3,252 square kilometers\n"
     ]
    }
   ],
   "source": [
    "print(\"Toba Tek Singh\")\n",
    "print(\"87,210\")\n",
    "print(\"Best producer of oranges\")\n",
    "print(\"3,252 square kilometers\")"
   ]
  },
  {
   "cell_type": "raw",
   "id": "78819c7a-d57d-4158-8ec4-2a137d6d53c3",
   "metadata": {},
   "source": [
    "FLOW CHART :\n",
    "+-------------------------+\n",
    "| Start                   |\n",
    "+-------------------------+\n",
    "|\n",
    "v\n",
    "+-------------------------+\n",
    "| Print \"Toba Tek Singh\"  |\n",
    "+-------------------------+\n",
    "|\n",
    "v\n",
    "+-------------------------+\n",
    "| Print \"87,210\"           |\n",
    "+-------------------------+\n",
    "|\n",
    "v\n",
    "+-------------------------+\n",
    "| Print \"Best producer of oranges\" |\n",
    "+-------------------------+\n",
    "|\n",
    "v\n",
    "+-------------------------+\n",
    "| Print \"3,252 square kilometers\" |\n",
    "+-------------------------+\n",
    "|\n",
    "v\n",
    "+-------------------------+\n",
    "| End                     |\n",
    "+-------------------------+\n"
   ]
  },
  {
   "cell_type": "markdown",
   "id": "205354ff-f87d-4e31-80a7-6f94112ee798",
   "metadata": {},
   "source": [
    "#<h2  align=\"center\">**TODO Tasks on Comments**</h2>"
   ]
  },
  {
   "cell_type": "code",
   "execution_count": null,
   "id": "31b4b9c8-adf8-4f5e-b7ec-c80f5b62941f",
   "metadata": {},
   "outputs": [],
   "source": []
  },
  {
   "cell_type": "markdown",
   "id": "376e6358-f974-4f6b-87a3-9a248710c331",
   "metadata": {},
   "source": [
    "### **TODO Task 4:**\n",
    "**Task:** Add Two Numbers and add comments\n",
    "\n",
    "**Input:** 7 , 4\n",
    "\n",
    "**Processing:** Print() Function\n",
    "\n",
    "**Output:** 3\n",
    "\n",
    "**Code:**\n"
   ]
  },
  {
   "cell_type": "code",
   "execution_count": 2,
   "id": "75113f49-7e91-412b-a513-aff40cff707d",
   "metadata": {},
   "outputs": [
    {
     "name": "stdout",
     "output_type": "stream",
     "text": [
      "3\n"
     ]
    }
   ],
   "source": [
    "print(7 - 4) # This is a program to minus two numbers"
   ]
  },
  {
   "cell_type": "markdown",
   "id": "33e6c383-8d88-4c0d-a7c6-d8ae254eda66",
   "metadata": {},
   "source": [
    "#<h2  align=\"center\">**TODO Tasks on Arithmatic Operators**</h2>"
   ]
  },
  {
   "cell_type": "markdown",
   "id": "eb718ec5-d89a-468d-ba6c-95fbf3dfb669",
   "metadata": {},
   "source": [
    "### **TODO Task 5:**\n",
    "**Task:** Write Output of Following\n",
    "\n",
    "**Input:**\n",
    "\n",
    "**o** 15 // 3 % 2 + 5 – 2 * 5\n",
    "\n",
    "\n",
    "**o** 15 // (3 % 2) + (5 – 2) * 5\n",
    "\n",
    "\n",
    "**o** 15 / 3 % 2 + 5 – 2 ** 3\n",
    "\n",
    "**Processing :** Print() Function\n",
    "\n",
    "\n",
    "**Output:**\n",
    "\n",
    "-4\n",
    "\n",
    "30\n",
    "\n",
    "-2-0\n",
    "\n",
    "\n",
    "**Code:**"
   ]
  },
  {
   "cell_type": "code",
   "execution_count": 3,
   "id": "20b689e2-f9f4-4099-a74f-309af1dcbea3",
   "metadata": {},
   "outputs": [
    {
     "name": "stdout",
     "output_type": "stream",
     "text": [
      "-4\n",
      "30\n",
      "-2.0\n"
     ]
    }
   ],
   "source": [
    "print(15 // 3 % 2 + 5 - 2 * 5)\n",
    "print(15 // (3 % 2) + (5 - 2) * 5)\n",
    "print(15 / 3 % 2 + 5 - 2 ** 3)\n"
   ]
  },
  {
   "cell_type": "markdown",
   "id": "7a8140f9-c94d-411a-a365-d9044e886d6c",
   "metadata": {},
   "source": [
    "### **TODO Task 6:**\n",
    "**Task:** Write down pseudocode for the following programs:\n",
    "\n",
    "**o** Multiply three numbers\n",
    "  \n",
    "**o** Find square of a number\n",
    "\n",
    "**o** Find area of a circle\n",
    "\n",
    "**Input:**\n",
    "\n",
    "a=2  \n",
    "b=5  \n",
    "r=6\n",
    "\n",
    "**Processing :** Print() Function\n",
    "\n",
    "\n",
    "**Output:**\n",
    "\n",
    "No Output\n",
    "\n",
    "**Code:**"
   ]
  },
  {
   "cell_type": "code",
   "execution_count": 20,
   "id": "da881d9e-6f6b-48ba-be0a-4032dc40aa6b",
   "metadata": {},
   "outputs": [],
   "source": [
    "a=2\n",
    "b=5\n",
    "r=6\n",
    "\n",
    "#    Multiply Three Numbers Pseudo Code :\n",
    "\n",
    "#  Start\n",
    "#  Declaration\n",
    "#  Input\n",
    "#  Processing\n",
    "#  Output\n",
    "#  End\n",
    "\n",
    "\n",
    "#   Square of a Number Pseudo Code:\n",
    "\n",
    "#  Start\n",
    "#  Declaration\n",
    "#  Input\n",
    "#  Processing\n",
    "#  Output\n",
    "#  End\n",
    "\n",
    "\n",
    "\n",
    "#    Area of a Circle Pseudo Code :\n",
    "\n",
    "#  Start\n",
    "#  Declaration\n",
    "#  Input\n",
    "#  Processing\n",
    "#  Output\n",
    "#  End"
   ]
  },
  {
   "cell_type": "markdown",
   "id": "d67fcc12-20b1-497b-91c3-4f2c45cd8888",
   "metadata": {},
   "source": [
    "### **TODO Task 7:**\n",
    "**Task:** Use Template-based Approach described in this Lecture to write the \n",
    "following programs \n",
    "\n",
    "**o** Multiplication of three numbers\n",
    "\n",
    "**o** Calculate square of a number\n",
    "\n",
    "**o** Calculate area of a circle\n",
    "\n",
    "**o** Print a two digits number in reverse order\n",
    "\n",
    "**o** Print a three digits number in reverse order\n",
    "\n",
    "**Input:**\n",
    "\n",
    "a=3  \n",
    "b=4 \n",
    "r=7\n",
    "\n",
    "**Processing :** Print() Function\n",
    "\n",
    "\n",
    "**Output:**\n",
    "\n",
    "84\n",
    "9\n",
    "21.98\n",
    "43\n",
    "543\n",
    "\n",
    "**Code:**"
   ]
  },
  {
   "cell_type": "code",
   "execution_count": 5,
   "id": "173ae964-b16a-4b26-96ef-40679a06e50e",
   "metadata": {},
   "outputs": [
    {
     "name": "stdout",
     "output_type": "stream",
     "text": [
      "84\n",
      "9\n",
      "21.98\n",
      "43\n",
      "543\n"
     ]
    }
   ],
   "source": [
    "#   Multiplication of Three Numbers\n",
    "\n",
    "     #START\n",
    "     #Declaration\n",
    "a=3         \n",
    "b=4\n",
    "r=7\n",
    "     #Processing\n",
    "mul=a*b*r\n",
    "     #Output\n",
    "print(mul)\n",
    "     #END\n",
    "\n",
    "#   Square of a Number\n",
    "\n",
    "        #START\n",
    "        #Declaration\n",
    "a=3\n",
    "        #Processing\n",
    "result= a**2\n",
    "        #Output\n",
    "print(result)\n",
    "        #END\n",
    "\n",
    "#   Area of a circle\n",
    "\n",
    "        #START\n",
    "        #Declaration\n",
    "r=7\n",
    "        #Processing\n",
    "result=3.14*r\n",
    "        #Output\n",
    "print(result)\n",
    "        #END\n",
    "\n",
    "\n",
    "\n",
    "#   Print Two digit Number in reverse order\n",
    "\n",
    "        #START\n",
    "        #Declaration\n",
    "n=34\n",
    "        #Processing\n",
    "digit1 = n // 10\n",
    "digit2 = n % 10\n",
    "        #Output\n",
    "print(f\"{digit2}{digit1}\")\n",
    "        #END\n",
    "\n",
    "\n",
    "#   Print Three digit Number in reverse order\n",
    "\n",
    "        #START\n",
    "        #Declaration\n",
    "n=345\n",
    "        #Processing\n",
    "digit1 = n // 100\n",
    "digit2 = (n // 10)%10\n",
    "digit3 = n % 10\n",
    "         #Output\n",
    "print(f\"{digit3}{digit2}{digit1}\")\n",
    "        #END"
   ]
  },
  {
   "cell_type": "markdown",
   "id": "1441c7b4-19aa-4364-ab70-b006dac11595",
   "metadata": {},
   "source": [
    "#<h2  align=\"center\">**TODO Tasks on If Statement**</h2>"
   ]
  },
  {
   "cell_type": "markdown",
   "id": "78218990-c088-462b-a3ee-99126d94a7cc",
   "metadata": {},
   "source": [
    "### **TODO Task 8:**\n",
    "**Task:** Write a program that takes an integer input from the user and \n",
    "determines whether the number is positive, negative, or zero.\n",
    "\n",
    "\n",
    "**Input:**\n",
    "Enter a Number : 5\n",
    "\n",
    "**Processing :** if statement\n",
    "\n",
    "**Output:**\n",
    "Positive Number\n",
    "\n",
    "**Code:**"
   ]
  },
  {
   "cell_type": "code",
   "execution_count": 1,
   "id": "359b2ce8-137e-46fb-a0ef-6238028e9dee",
   "metadata": {},
   "outputs": [
    {
     "name": "stdout",
     "output_type": "stream",
     "text": [
      "Positive Number\n"
     ]
    }
   ],
   "source": [
    "n=5\n",
    "if(n>0):\n",
    "    print(\"Positive Number\")\n",
    "if(n==0):\n",
    "    print(\"Zero\")\n",
    "if(n<0):\n",
    "    print(\"Negative Number\")\n",
    "\n"
   ]
  },
  {
   "cell_type": "markdown",
   "id": "5e2675c4-806d-45ee-8eb3-07d55a6f4786",
   "metadata": {},
   "source": [
    "### **Your Turn Task 9:**\n",
    "**Task:** Check that a number is Even or Odd\n",
    "\n",
    "**Input:** 6\n",
    "\n",
    "**Processing:** if Statement\n",
    "\n",
    "**Output:** Even Number\n",
    "\n",
    "**Code:**"
   ]
  },
  {
   "cell_type": "code",
   "execution_count": 2,
   "id": "a83eb187-dec3-4f3e-9eb4-af648903dc82",
   "metadata": {},
   "outputs": [
    {
     "name": "stdout",
     "output_type": "stream",
     "text": [
      "Even Number\n"
     ]
    }
   ],
   "source": [
    "n=6\n",
    "if(n%2==0):\n",
    "    print(\"Even Number\")\n",
    "if(n%2!=0):\n",
    "    print(\"Odd Number\")\n",
    "    "
   ]
  },
  {
   "cell_type": "markdown",
   "id": "c7daf56c-1154-4462-81c3-d274ec532c5d",
   "metadata": {},
   "source": [
    "#<h2  align=\"center\">**TODO Tasks on If-else Statement**</h2>"
   ]
  },
  {
   "cell_type": "markdown",
   "id": "c68a4da7-0c9c-4fd2-a707-069e996f1d98",
   "metadata": {},
   "source": [
    "### **TODO Task 10:**\n",
    "**Task:** Write a program which takes age of a person as input, and determines if\n",
    "(s)he is eligible to vote or not?\n",
    "\n",
    "\n",
    "**Input:**\n",
    "Enter age : 4\n",
    "\n",
    "**Processing :** if statement\n",
    "\n",
    "**Output:**\n",
    "You are not eligible to vote.\n",
    "\n",
    "**Flow Chart:**"
   ]
  },
  {
   "cell_type": "raw",
   "id": "4c2b745b-29aa-4328-abe9-49004dce06a1",
   "metadata": {},
   "source": [
    " +-----------------+\n",
    " | Start           |\n",
    " +-----------------+\n",
    " |\n",
    " v\n",
    " +-----------------+\n",
    " | Input age       | (Prompt user to enter age)\n",
    " +-----------------+\n",
    " |\n",
    " v\n",
    " +-----------------+\n",
    " | Convert to int  | (Convert input to integer)\n",
    " +-----------------+\n",
    " |\n",
    " v\n",
    " +-----------------+\n",
    " | Check age >= 18 |\n",
    " +-----------------+\n",
    " |   |\n",
    " |   v\n",
    " | +-----------------+\n",
    " | | Eligible        | (Print \"You are eligible to vote.\")\n",
    " | +-----------------+\n",
    " |\n",
    " v\n",
    " +-----------------+\n",
    " | Not Eligible     | (Print \"You are not eligible to vote.\")\n",
    " +-----------------+\n",
    " |\n",
    " v\n",
    " +-----------------+\n",
    " | End             |\n",
    " +-----------------+\n"
   ]
  },
  {
   "cell_type": "markdown",
   "id": "8554c19a-ea5c-482e-a8d9-4802658b1186",
   "metadata": {},
   "source": [
    "**Code:**"
   ]
  },
  {
   "cell_type": "code",
   "execution_count": null,
   "id": "2fd9d044-ee43-4f77-8d77-5c780d936ca1",
   "metadata": {},
   "outputs": [],
   "source": [
    "# Prompt user to enter age\n",
    "age = 4  # Assume the user inputs their age\n",
    "\n",
    "# Check if age is greater than or equal to 18\n",
    "if age >= 18:\n",
    "    # If age is 18 or greater, print eligibility message\n",
    "    print(\"You are eligible to vote.\")\n",
    "else:\n",
    "    # If age is less than 18, print ineligibility message\n",
    "    print(\"You are not eligible to vote.\")\n"
   ]
  },
  {
   "cell_type": "markdown",
   "id": "4d0c846e-e90b-4c37-8990-3fd156467a60",
   "metadata": {},
   "source": [
    "### **TODO Task 11:**\n",
    "**Task:** Write a program which takes hair length of a person as input, and \n",
    "determines if the person if male or female?\n",
    "\n",
    "\n",
    "**Input:** 5\n",
    "\n",
    "**Processing:** if-else Statement\n",
    "\n",
    "**Output:** Male\n",
    "\n",
    "**Flow Chart:**"
   ]
  },
  {
   "cell_type": "raw",
   "id": "c27dd02f-3cad-40bf-8b3a-3f6abe571e31",
   "metadata": {},
   "source": [
    " +-----------------+\n",
    " | Start           |\n",
    " +-----------------+\n",
    "       |\n",
    "       v\n",
    " +-----------------+\n",
    " | Input hair      | (Prompt user to enter hair length in inches)\n",
    " | length          |\n",
    " +-----------------+\n",
    "       |\n",
    "       v\n",
    " +-----------------+\n",
    " | Convert to      | (Convert input to float)\n",
    " | float           |\n",
    " +-----------------+\n",
    "       |\n",
    "       v\n",
    " +--------------------------+\n",
    " | Check hair length < 0    |\n",
    " +--------------------------+\n",
    "       |           |\n",
    "       |           v\n",
    "       |   +---------------------+\n",
    "       |   | Invalid Input       | (Print \"Hair length cannot be negative.\")\n",
    "       |   +---------------------+\n",
    "       |           |\n",
    "       |           v\n",
    "       |   +---------------------+\n",
    "       |   | End                 |\n",
    "       |   +---------------------+\n",
    "       |    \n",
    "       v\n",
    " +--------------------------+\n",
    " | Check hair length > 6    |\n",
    " +--------------------------+\n",
    "       |           |\n",
    "       |           v\n",
    "       |   +---------------------+\n",
    "       |   | Female              | (Print \"Guessed gender: Female\")\n",
    "       |   +---------------------+\n",
    "       |           |\n",
    "       |           v\n",
    "       |   +---------------------+\n",
    "       |   | End                 |\n",
    "       |   +---------------------+\n",
    "       |    \n",
    "       v\n",
    " +--------------------------+\n",
    " | Male                    | (Print \"Guessed gender: Male\")\n",
    " +--------------------------+\n",
    "       |\n",
    "       v\n",
    " +-----------------+\n",
    " | End             |\n",
    " +-----------------+\n"
   ]
  },
  {
   "cell_type": "markdown",
   "id": "bc76dbfa-cd6d-4c60-8107-e3e7ed05a1c9",
   "metadata": {},
   "source": [
    "**Code:**"
   ]
  },
  {
   "cell_type": "code",
   "execution_count": 4,
   "id": "8b82c694-e041-41d6-ae60-fd1bc5110435",
   "metadata": {},
   "outputs": [
    {
     "name": "stdout",
     "output_type": "stream",
     "text": [
      "Male\n"
     ]
    }
   ],
   "source": [
    " hair_length = 5\n",
    "if (hair_length < 6) :\n",
    "        print(\"Male\")\n",
    "else:\n",
    "        print(\" Female\")"
   ]
  },
  {
   "cell_type": "markdown",
   "id": "3a76560b-7129-45d1-8a15-8080abb391c0",
   "metadata": {},
   "source": [
    "### **TODO Task 12:**\n",
    "**Task:** Write a program that takes an integer input from the user and determines \n",
    "whether the number is positive, negative, or zero.\n",
    "\n",
    "**Input:** 5\n",
    "\n",
    "**Processing:** if-elif-else  statement\n",
    "\n",
    "\n",
    "**Output:** The number is positive.\n",
    "\n",
    "**Flow chart:**"
   ]
  },
  {
   "cell_type": "raw",
   "id": "86a012bf-1fa8-4b0f-84e3-80a0cdccedc9",
   "metadata": {},
   "source": [
    " +-----------------+\n",
    " | Start           |\n",
    " +-----------------+\n",
    "       |\n",
    "       v\n",
    " +-----------------+\n",
    " | Input number    | (Prompt user to enter an integer)\n",
    " +-----------------+\n",
    "       |\n",
    "       v\n",
    " +-----------------+\n",
    " | Convert to int  | (Convert input to integer)\n",
    " +-----------------+\n",
    "       |\n",
    "       v\n",
    " +--------------------------+\n",
    " | Check number > 0         |\n",
    " +--------------------------+\n",
    " |           |\n",
    " |           v\n",
    " | +-----------------+\n",
    " | | Positive        | (Print \"The number is positive.\")\n",
    " | +-----------------+\n",
    " |           |\n",
    " |           v\n",
    " | +-----------------+\n",
    " | | End             |\n",
    " | +-----------------+\n",
    " |\n",
    " v\n",
    " +--------------------------+\n",
    " | Check number < 0         |\n",
    " +--------------------------+\n",
    " |           |\n",
    " |           v\n",
    " | +-----------------+\n",
    " | | Negative        | (Print \"The number is negative.\")\n",
    " | +-----------------+\n",
    " |           |\n",
    " |           v\n",
    " | +-----------------+\n",
    " | | End             |\n",
    " | +-----------------+\n",
    " |\n",
    " v\n",
    " +-----------------+\n",
    " | Zero            | (Print \"The number is zero.\")\n",
    " +-----------------+\n",
    "       |\n",
    "       v\n",
    " +-----------------+\n",
    " | End             |\n",
    " +-----------------+\n"
   ]
  },
  {
   "cell_type": "markdown",
   "id": "f9a4d26e-adf3-4fe6-baa5-59592096a412",
   "metadata": {},
   "source": [
    "**Code:**"
   ]
  },
  {
   "cell_type": "code",
   "execution_count": 5,
   "id": "c24f97c6-0a82-4720-8917-3a47c51da4df",
   "metadata": {},
   "outputs": [
    {
     "name": "stdout",
     "output_type": "stream",
     "text": [
      "The number is positive.\n"
     ]
    }
   ],
   "source": [
    "# Prompt the user to enter an integer\n",
    "user_input = 5\n",
    "\n",
    "# Convert the input to an integer\n",
    "number = int(user_input)\n",
    "\n",
    "# Check if the number is positive\n",
    "if number > 0:\n",
    "    print(\"The number is positive.\")\n",
    "# Check if the number is negative\n",
    "elif number < 0:\n",
    "    print(\"The number is negative.\")\n",
    "# The number must be zero\n",
    "else:\n",
    "    print(\"The number is zero.\")\n"
   ]
  },
  {
   "cell_type": "markdown",
   "id": "aed3f00b-6232-46a9-862b-0c4d6ec49db0",
   "metadata": {},
   "source": [
    "#<h2  align=\"center\">**TODO Tasks on Repetition Structures**</h2>"
   ]
  },
  {
   "cell_type": "markdown",
   "id": "f08dc36e-6b08-478b-a614-a2d6a0e3ddfd",
   "metadata": {},
   "source": [
    "### **TODO Task 13:**\n",
    "**Task:** Write a program which prints the first fifty even numbers on the output \n",
    "screen.\n",
    "\n",
    "\n",
    "**Input:**\n",
    "i=1\n",
    "\n",
    "**Processing :** while loop\n",
    "\n",
    "**Output:**\n",
    "2 4 6 8 ----------- 100\n",
    "\n",
    "**Code:**"
   ]
  },
  {
   "cell_type": "code",
   "execution_count": 8,
   "id": "a967d3f9-7c7d-487f-88cc-7ae34764e07d",
   "metadata": {},
   "outputs": [
    {
     "name": "stdout",
     "output_type": "stream",
     "text": [
      "2 , 4 , 6 , 8 , 10 , 12 , 14 , 16 , 18 , 20 , 22 , 24 , 26 , 28 , 30 , 32 , 34 , 36 , 38 , 40 , 42 , 44 , 46 , 48 , 50 , 52 , 54 , 56 , 58 , 60 , 62 , 64 , 66 , 68 , 70 , 72 , 74 , 76 , 78 , 80 , 82 , 84 , 86 , 88 , 90 , 92 , 94 , 96 , 98 , 100 , "
     ]
    }
   ],
   "source": [
    "i=1\n",
    "while i<=100:\n",
    "    if i % 2 == 0 :\n",
    "        print(f\"{i} , \",end=\"\")\n",
    "    i+=1"
   ]
  },
  {
   "cell_type": "markdown",
   "id": "c0c6d1d1-9af3-42ba-8e41-975e222e03d6",
   "metadata": {},
   "source": [
    "### **TODO Task 14:**\n",
    "**Task:** Write a program which takes a number as input from user and prints its \n",
    "table on the output screen\n",
    "\n",
    "**Input:** 5\n",
    "\n",
    "**Processing:** While loop\n",
    "\n",
    "**Output:** Table of 5\n",
    "\n",
    "**Code:**"
   ]
  },
  {
   "cell_type": "code",
   "execution_count": 9,
   "id": "6bdbae2f-8dc5-4e67-b1c2-1a53c7b59979",
   "metadata": {},
   "outputs": [
    {
     "name": "stdout",
     "output_type": "stream",
     "text": [
      "5 * 1 = 5\n",
      "5 * 2 = 10\n",
      "5 * 3 = 15\n",
      "5 * 4 = 20\n",
      "5 * 5 = 25\n",
      "5 * 6 = 30\n",
      "5 * 7 = 35\n",
      "5 * 8 = 40\n",
      "5 * 9 = 45\n",
      "5 * 10 = 50\n"
     ]
    }
   ],
   "source": [
    "n=5\n",
    "counter =1\n",
    "while counter <=10:\n",
    "    print(f\"{n} * {counter} = {n*counter}\")\n",
    "    counter+=1"
   ]
  },
  {
   "cell_type": "markdown",
   "id": "78a13ea4-c102-4e81-961a-bec38bafda28",
   "metadata": {},
   "source": [
    "### **TODO Task 15:**\n",
    "**Task:**Write a program which takes a number, lower bound, and upper bound as \n",
    "input from user, and prints its table on the output screen according to \n",
    "lower bound and upper bound.\n",
    "\n",
    "**Input:** n=5\n",
    "lower bound = 4\n",
    "upper bound = 8\n",
    "\n",
    "**Processing:** while loop\n",
    "\n",
    "\n",
    "**Output:** Table of 5\n",
    "\n",
    "**Code:**"
   ]
  },
  {
   "cell_type": "code",
   "execution_count": 10,
   "id": "9c173150-c245-4a69-9d75-28b04044ce27",
   "metadata": {},
   "outputs": [
    {
     "name": "stdout",
     "output_type": "stream",
     "text": [
      "5 * 4 = 20\n",
      "5 * 5 = 25\n",
      "5 * 6 = 30\n",
      "5 * 7 = 35\n",
      "5 * 8 = 40\n"
     ]
    }
   ],
   "source": [
    "n=5\n",
    "lB=4\n",
    "uB=8\n",
    "while lB <= uB:\n",
    "     print(f\"{n} * {lB} = {n*lB}\")\n",
    "     lB+=1"
   ]
  },
  {
   "cell_type": "markdown",
   "id": "d930d420-55f2-4603-ada6-cadef9fe1de7",
   "metadata": {},
   "source": [
    "#<h2  align=\"center\">**TODO Tasks on Functions**</h2>"
   ]
  },
  {
   "cell_type": "markdown",
   "id": "bdadd5c5-9ab8-495d-88c7-bdb810b3cf95",
   "metadata": {},
   "source": [
    "### **TODO Task 16:**\n",
    "**Task:** Write output of following code :\n"
   ]
  },
  {
   "cell_type": "code",
   "execution_count": 1,
   "id": "cc41773d-4404-4170-bf5a-83f52efe99de",
   "metadata": {},
   "outputs": [
    {
     "name": "stdout",
     "output_type": "stream",
     "text": [
      "I am in main()\n",
      "I am in saudi_arabia()\n",
      "I am in india()\n",
      "I am in pakistan()\n",
      "Back in main()\n"
     ]
    }
   ],
   "source": [
    "# Function Prototypes (not necessary in Python, but indicating structure)\n",
    "def india(): \n",
    "    pass\n",
    "\n",
    "def saudi_arabia(): \n",
    "    pass\n",
    "\n",
    "def pakistan(): \n",
    "    pass\n",
    "\n",
    "# Function Definitions\n",
    "def india():  # india() Function Header\n",
    "    # Body of india() Function\n",
    "    saudi_arabia()  # Function Call\n",
    "    print(\"I am in india()\")\n",
    "\n",
    "def saudi_arabia():  # saudi_arabia() Function Header\n",
    "    # Body of saudi_arabia() Function\n",
    "    print(\"I am in saudi_arabia()\")\n",
    "\n",
    "def pakistan():  # pakistan() Function Header\n",
    "    # Body of pakistan() Function\n",
    "    india()  # Function Call\n",
    "    print(\"I am in pakistan()\")\n",
    "\n",
    "# Main Function\n",
    "if __name__ == \"__main__\":  # main() Function Header\n",
    "    # Body of main() Function\n",
    "    print(\"I am in main()\")\n",
    "    pakistan()  # Function Call\n",
    "    print(\"Back in main()\")\n"
   ]
  },
  {
   "cell_type": "markdown",
   "id": "e417c6f8-de43-4f8a-aa96-3b1d94db9146",
   "metadata": {},
   "source": [
    "### **TODO Task 17:**\n",
    "**Task:** Write output of following code :\n"
   ]
  },
  {
   "cell_type": "code",
   "execution_count": 2,
   "id": "70428853-c31c-4edb-bdc9-1541e6a536fd",
   "metadata": {},
   "outputs": [
    {
     "name": "stdout",
     "output_type": "stream",
     "text": [
      "I am in Main()\n",
      "I am in Pakistan()\n",
      "I am in Saudi Arabia()\n",
      "I am in India()\n",
      "I am in Saudi Arabia()\n",
      "Back in Main()\n"
     ]
    }
   ],
   "source": [
    "# Function Definitions\n",
    "\n",
    "def india():  # india() Function Header\n",
    "    # Body of india() Function\n",
    "    saudi_arabia()  # Function Call\n",
    "    print(\"I am in India()\")\n",
    "\n",
    "def saudi_arabia():  # saudi_arabia() Function Header\n",
    "    # Body of saudi_arabia() Function\n",
    "    print(\"I am in Saudi Arabia()\")\n",
    "\n",
    "def pakistan():  # pakistan() Function Header\n",
    "    # Body of pakistan() Function\n",
    "    print(\"I am in Pakistan()\")\n",
    "    india()  # Function Call\n",
    "    saudi_arabia()  # Function Call\n",
    "\n",
    "# Main Function\n",
    "if __name__ == \"__main__\":  # main() Function Header\n",
    "    # Body of main() Function\n",
    "    print(\"I am in Main()\")\n",
    "    pakistan()  # Function Call\n",
    "    print(\"Back in Main()\")\n"
   ]
  },
  {
   "cell_type": "markdown",
   "id": "47a48493-6050-4094-9bd3-9afde6b2d396",
   "metadata": {},
   "source": [
    "### **TODO Task 18:**\n",
    "**Task:** Write output of following code :\n"
   ]
  },
  {
   "cell_type": "code",
   "execution_count": 3,
   "id": "eecc450e-fdbe-4d3b-be65-125753aa05c5",
   "metadata": {},
   "outputs": [
    {
     "name": "stdout",
     "output_type": "stream",
     "text": [
      "I am in Main()\n",
      "I am in Madina()\n",
      "I am in Pakistan()\n",
      "I am in India()\n",
      "I am in Saudi Arabia()\n",
      "Back in Main()\n"
     ]
    }
   ],
   "source": [
    "# Function Definitions\n",
    "\n",
    "def india():  # india() Function Header\n",
    "    # Body of india() Function\n",
    "    print(\"I am in India()\")\n",
    "    saudi_arabia()  # Function Call\n",
    "\n",
    "def saudi_arabia():  # saudi_arabia() Function Header\n",
    "    # Body of saudi_arabia() Function\n",
    "    print(\"I am in Saudi Arabia()\")\n",
    "\n",
    "def pakistan():  # pakistan() Function Header\n",
    "    # Body of pakistan() Function\n",
    "    print(\"I am in Pakistan()\")\n",
    "\n",
    "def madina():  # madina() Function Header\n",
    "    # Body of madina() Function\n",
    "    print(\"I am in Madina()\")\n",
    "    pakistan()  # Function Call\n",
    "    india()  # Function Call\n",
    "\n",
    "# Main Function\n",
    "if __name__ == \"__main__\":  # main() Function Header\n",
    "    # Body of main() Function\n",
    "    print(\"I am in Main()\")\n",
    "    madina()  # Function Call\n",
    "    print(\"Back in Main()\")\n"
   ]
  },
  {
   "cell_type": "markdown",
   "id": "cbfb171d-ae80-4c6c-b847-1455202639d7",
   "metadata": {},
   "source": [
    "# <h1 align=\"center\">**Question 3 Use the Template-based Appraoch, to write programs for Your Trun Tasks**</h1>"
   ]
  },
  {
   "cell_type": "markdown",
   "id": "b01d9d84-09a2-4333-9958-36c32ca0f5e8",
   "metadata": {},
   "source": [
    "#<h2  align=\"center\">**Your Turn Tasks on Print Statement**</h2>"
   ]
  },
  {
   "cell_type": "markdown",
   "id": "c5d57d67-7fe0-48bb-9d62-b79de624680a",
   "metadata": {},
   "source": [
    "### **Your Turn Task 1**\n",
    "**Task:** Print Waqar as Output\n",
    "\n",
    "**Input:** Waqar\n",
    "\n",
    "**Processing:** Print() Function\n",
    "\n",
    "**Output:** Waqar\n",
    "\n",
    "**Code:**"
   ]
  },
  {
   "cell_type": "code",
   "execution_count": 5,
   "id": "20314df5-bf3d-4367-8547-cd71a53ac620",
   "metadata": {},
   "outputs": [
    {
     "name": "stdout",
     "output_type": "stream",
     "text": [
      "Waqar\n"
     ]
    }
   ],
   "source": [
    "print(\"Waqar\")"
   ]
  },
  {
   "cell_type": "raw",
   "id": "8e86e4cb-d52e-4ce5-80c9-8b9a9baeaea4",
   "metadata": {},
   "source": [
    "FLOW CHART :\n",
    "+-----------------+\n",
    "| Start           |\n",
    "+-----------------+\n",
    "|\n",
    "v\n",
    "+-----------------+\n",
    "| Print \"Waqar\"   |\n",
    "+-----------------+\n",
    "|\n",
    "v\n",
    "+-----------------+\n",
    "| End             |\n",
    "+-----------------+\n"
   ]
  },
  {
   "cell_type": "markdown",
   "id": "a41d4f98-6c53-4db7-bdc0-acf1a95fab2a",
   "metadata": {},
   "source": [
    "### **Your Turn Task 2**\n",
    "**Task:** Add Two Numbers and add comments\n",
    "\n",
    "**Input:** 3 , 6\n",
    "\n",
    "**Processing:** Print() Function\n",
    "\n",
    "**Output:** 9\n",
    "\n",
    "**Code:**\n"
   ]
  },
  {
   "cell_type": "code",
   "execution_count": 1,
   "id": "b71625ab-5fa8-47a9-aaae-d35811580dfe",
   "metadata": {},
   "outputs": [
    {
     "name": "stdout",
     "output_type": "stream",
     "text": [
      "9\n"
     ]
    }
   ],
   "source": [
    "print(3 + 6) # This is a program to minus two numbers"
   ]
  },
  {
   "cell_type": "markdown",
   "id": "30e0d459-817c-4b86-9a62-7c6ad361f126",
   "metadata": {},
   "source": [
    "#<h2  align=\"center\">**Your Turn Tasks on Comments**</h2>"
   ]
  },
  {
   "cell_type": "markdown",
   "id": "82dbb3d0-530e-41bf-a536-4531b36580cd",
   "metadata": {},
   "source": [
    "### **Your Turn Task 3:**\n",
    "**Task:** Add Two Numbers and add comments\n",
    "\n",
    "**Input:** 3 , 6\n",
    "\n",
    "**Processing:** Print() Function\n",
    "\n",
    "**Output:** 9\n",
    "\n",
    "**Code:**\n"
   ]
  },
  {
   "cell_type": "code",
   "execution_count": 2,
   "id": "ec55154e-9201-40fa-9830-7c2b4230353b",
   "metadata": {},
   "outputs": [
    {
     "name": "stdout",
     "output_type": "stream",
     "text": [
      "9\n"
     ]
    }
   ],
   "source": [
    "print(3 + 6) # This is a program to minus two numbers"
   ]
  },
  {
   "cell_type": "markdown",
   "id": "63ec32e2-f72b-4ca2-8c99-45f82910c583",
   "metadata": {},
   "source": [
    "#<h2  align=\"center\">**Your Turn Tasks on Arithmatic Operators**</h2>"
   ]
  },
  {
   "cell_type": "markdown",
   "id": "a2ee57ba-5be2-4a4d-a0f0-339c7f9986e9",
   "metadata": {},
   "source": [
    "### **Your Turn Task 4**\n",
    "**Task:** Write Three Digit Number in Reverse Order\n",
    "\n",
    "**Input:** 678\n",
    "\n",
    "**Processing:** Print() Function\n",
    "\n",
    "**Output:** 876\n",
    "\n",
    "**Code:**"
   ]
  },
  {
   "cell_type": "code",
   "execution_count": 6,
   "id": "87d140a3-daa5-4664-b20f-914c9e585fde",
   "metadata": {},
   "outputs": [
    {
     "name": "stdout",
     "output_type": "stream",
     "text": [
      "876\n"
     ]
    }
   ],
   "source": [
    " #START\n",
    "        #Declaration\n",
    "n=678\n",
    "        #Processing\n",
    "digit1 = n // 100\n",
    "digit2 = (n // 10)%10\n",
    "digit3 = n % 10\n",
    "         #Output\n",
    "print(f\"{digit3}{digit2}{digit1}\")\n",
    "        #END"
   ]
  },
  {
   "cell_type": "markdown",
   "id": "ba9eccf8-f2ef-495d-bc35-d671434e6abf",
   "metadata": {},
   "source": [
    "#<h2  align=\"center\">**Your Turn Tasks on If Statement**</h2>"
   ]
  },
  {
   "cell_type": "markdown",
   "id": "95672e2d-6393-4b87-a16e-5a2cb3f79976",
   "metadata": {},
   "source": [
    "### **Your Turn Task 5**\n",
    "**Task:** Check that if a Person is eligible to vote or not\n",
    "\n",
    "**Input:** 18\n",
    "\n",
    "**Processing:** if statement\n",
    "\n",
    "**Output:** You are Eligible to Vote!\n",
    "\n",
    "**Code:**"
   ]
  },
  {
   "cell_type": "code",
   "execution_count": null,
   "id": "a0ab27b7-8ef5-4be2-ab3c-a89c4ab255ec",
   "metadata": {},
   "outputs": [],
   "source": [
    "age=18\n",
    "if(age>=18):\n",
    "    print(\"You are Eligible to Vote!\")\n",
    "if(age<18):\n",
    "    print(\"You are not Eligible to Vote\")"
   ]
  },
  {
   "cell_type": "markdown",
   "id": "e3855c4c-8bd0-43c2-9be9-564344486e49",
   "metadata": {},
   "source": [
    "#<h2  align=\"center\">**Your Turn Tasks on If-else Statement**</h2>"
   ]
  },
  {
   "cell_type": "markdown",
   "id": "a58ddbe0-3d4f-442e-90e1-6920cff40d2b",
   "metadata": {},
   "source": [
    "### **Your Turn Task 6**\n",
    "**Task:** Write a program that takes the age of a person as input and classifies them \n",
    "into different age groups (child, teenager, adult, senior).\n",
    "\n",
    "\n",
    "**Input:** 30\n",
    "\n",
    "**Processing:** if-elif-else Statement\n",
    "\n",
    "**Output:** You are an adult.\n",
    "\n",
    "**Flow Chart:**"
   ]
  },
  {
   "cell_type": "raw",
   "id": "b81bd10d-50e6-495e-95d7-c3a929e2bce7",
   "metadata": {},
   "source": [
    " +-----------------+\n",
    " | Start           |\n",
    " +-----------------+\n",
    "       |\n",
    "       v\n",
    " +-----------------+\n",
    " | Input age       | (Prompt user to enter age)\n",
    " +-----------------+\n",
    "       |\n",
    "       v\n",
    " +-----------------+\n",
    " | Convert to int  | (Convert input to integer)\n",
    " +-----------------+\n",
    "       |\n",
    "       v\n",
    " +--------------------------+\n",
    " | Check age < 0            |\n",
    " +--------------------------+\n",
    " |           |\n",
    " |           v\n",
    " | +-----------------+\n",
    " | | Invalid Age     | (Print \"Invalid age.\")\n",
    " | +-----------------+\n",
    " |           |\n",
    " |           v\n",
    " | +-----------------+\n",
    " | | End             |\n",
    " | +-----------------+\n",
    " |\n",
    " v\n",
    " +--------------------------+\n",
    " | Check age <= 12          |\n",
    " +--------------------------+\n",
    " |           |\n",
    " |           v\n",
    " | +-----------------+\n",
    " | | Child           | (Print \"You are a child.\")\n",
    " | +-----------------+\n",
    " |           |\n",
    " |           v\n",
    " | +-----------------+\n",
    " | | End             |\n",
    " | +-----------------+\n",
    " |\n",
    " v\n",
    " +--------------------------+\n",
    " | Check age <= 17          |\n",
    " +--------------------------+\n",
    " |           |\n",
    " |           v\n",
    " | +-----------------+\n",
    " | | Teenager        | (Print \"You are a teenager.\")\n",
    " | +-----------------+\n",
    " |           |\n",
    " |           v\n",
    " | +-----------------+\n",
    " | | End             |\n",
    " | +-----------------+\n",
    " |\n",
    " v\n",
    " +--------------------------+\n",
    " | Check age <= 64          |\n",
    " +--------------------------+\n",
    " |           |\n",
    " |           v\n",
    " | +-----------------+\n",
    " | | Adult           | (Print \"You are an adult.\")\n",
    " | +-----------------+\n",
    " |           |\n",
    " |           v\n",
    " | +-----------------+\n",
    " | | End             |\n",
    " | +-----------------+\n",
    " |\n",
    " v\n",
    " +-----------------+\n",
    " | Senior          | (Print \"You are a senior.\")\n",
    " +-----------------+\n",
    "       |\n",
    "      "
   ]
  },
  {
   "cell_type": "markdown",
   "id": "0880707f-9563-4182-ad09-76b183d17174",
   "metadata": {},
   "source": [
    "**Code:**"
   ]
  },
  {
   "cell_type": "code",
   "execution_count": 6,
   "id": "7235194d-3b82-46d8-872c-e8a9226e03c1",
   "metadata": {},
   "outputs": [
    {
     "name": "stdout",
     "output_type": "stream",
     "text": [
      "You are an adult.\n"
     ]
    }
   ],
   "source": [
    "# Prompt the user to enter their age\n",
    "age = 30\n",
    "\n",
    "# Classify the age into different age groups\n",
    "if age < 0:\n",
    "    print(\"Invalid age.\")\n",
    "elif age <= 12:\n",
    "    print(\"You are a child.\")\n",
    "elif age <= 17:\n",
    "    print(\"You are a teenager.\")\n",
    "elif age <= 64:\n",
    "    print(\"You are an adult.\")\n",
    "else:\n",
    "    print(\"You are a senior.\")\n"
   ]
  },
  {
   "cell_type": "code",
   "execution_count": null,
   "id": "3a34e35a-cc82-44f9-8341-1ff120ab953a",
   "metadata": {},
   "outputs": [],
   "source": []
  },
  {
   "cell_type": "markdown",
   "id": "c2c54df7-e1ce-40cf-b99f-2b45502e0194",
   "metadata": {},
   "source": [
    "#<h2  align=\"center\">**Your Turn Tasks on Repetition Structures**</h2>"
   ]
  },
  {
   "cell_type": "markdown",
   "id": "30ef15ae-7b88-4867-a313-18107e0a486a",
   "metadata": {},
   "source": [
    "### **Your Turn Task 7**\n",
    "**Task:** Write a program that takes the age of a person as input and classifies them \n",
    "into different age groups (child, teenager, adult, senior).\n",
    "\n",
    "\n",
    "**Input:** 30\n",
    "\n",
    "**Processing:** if-elif-else Statement\n",
    "\n",
    "**Output:** You are an adult.\n",
    "\n",
    "**Code:**"
   ]
  },
  {
   "cell_type": "code",
   "execution_count": 11,
   "id": "c5826830-e7bd-4780-b77d-760730b81b84",
   "metadata": {},
   "outputs": [
    {
     "name": "stdout",
     "output_type": "stream",
     "text": [
      "You are an adult.\n"
     ]
    },
    {
     "name": "stdin",
     "output_type": "stream",
     "text": [
      "Enter your choice press y/n n\n"
     ]
    }
   ],
   "source": [
    "choice= 'y'\n",
    "while (choice=='y'):\n",
    "    # Prompt the user to enter their age\n",
    "    age = 30\n",
    "    # Classify the age into different age groups\n",
    "    if age < 0:\n",
    "        print(\"Invalid age.\")\n",
    "    elif age <= 12:\n",
    "        print(\"You are a child.\")\n",
    "    elif age <= 17:\n",
    "        print(\"You are a teenager.\")\n",
    "    elif age <= 64:\n",
    "        print(\"You are an adult.\")\n",
    "    else:\n",
    "        print(\"You are a senior.\")\n",
    "    choice=input(\"Enter your choice press y/n\")\n",
    "\n"
   ]
  },
  {
   "cell_type": "markdown",
   "id": "ceb5ede6-f676-4b68-9d34-1beb6a670717",
   "metadata": {},
   "source": [
    "#<h2  align=\"center\">**Your Turn Tasks on Functions**</h2>"
   ]
  },
  {
   "cell_type": "markdown",
   "id": "0ecee3e9-0094-42ba-b0df-11e2b54ff86d",
   "metadata": {},
   "source": [
    "### **Your Turn Task 8**\n",
    "**Task:** Write output of following code:"
   ]
  },
  {
   "cell_type": "code",
   "execution_count": 6,
   "id": "80901ceb-8676-49a9-b5ba-c84232ff0bea",
   "metadata": {},
   "outputs": [
    {
     "name": "stdout",
     "output_type": "stream",
     "text": [
      "I am in Main()\n",
      "I am in Japan()\n",
      "I am in Brazil()\n",
      "I am in Canada()\n",
      "I am in Australia()\n",
      "Back in Main()\n"
     ]
    }
   ],
   "source": [
    "# Function Definitions\n",
    "\n",
    "def canada():  # canada() Function Header\n",
    "    # Body of canada() Function\n",
    "    print(\"I am in Canada()\")\n",
    "    australia()  # Function Call\n",
    "\n",
    "def australia():  # australia() Function Header\n",
    "    # Body of australia() Function\n",
    "    print(\"I am in Australia()\")\n",
    "\n",
    "def brazil():  # brazil() Function Header\n",
    "    # Body of brazil() Function\n",
    "    print(\"I am in Brazil()\")\n",
    "\n",
    "def japan():  # japan() Function Header\n",
    "    # Body of japan() Function\n",
    "    print(\"I am in Japan()\")\n",
    "    brazil()  # Function Call\n",
    "    canada()  # Function Call\n",
    "\n",
    "# Main Function\n",
    "if __name__ == \"__main__\":  # main() Function Header\n",
    "    # Body of main() Function\n",
    "    print(\"I am in Main()\")\n",
    "    japan()  # Function Call\n",
    "    print(\"Back in Main()\")\n"
   ]
  }
 ],
 "metadata": {
  "colab": {
   "provenance": []
  },
  "kernelspec": {
   "display_name": "Python 3 (ipykernel)",
   "language": "python",
   "name": "python3"
  },
  "language_info": {
   "codemirror_mode": {
    "name": "ipython",
    "version": 3
   },
   "file_extension": ".py",
   "mimetype": "text/x-python",
   "name": "python",
   "nbconvert_exporter": "python",
   "pygments_lexer": "ipython3",
   "version": "3.12.4"
  }
 },
 "nbformat": 4,
 "nbformat_minor": 5
}
